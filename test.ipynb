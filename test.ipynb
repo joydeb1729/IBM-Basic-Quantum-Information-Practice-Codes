{
 "cells": [
  {
   "cell_type": "code",
   "execution_count": 3,
   "metadata": {},
   "outputs": [
    {
     "name": "stdout",
     "output_type": "stream",
     "text": [
      "{'0': 100}\n",
      "{'1': 100}\n",
      "{'1': 100}\n",
      "{'0': 100}\n",
      "{'1': 100}\n",
      "{'0': 100}\n",
      "{'1': 100}\n",
      "{'0': 100}\n"
     ]
    }
   ],
   "source": [
    "from qiskit import QuantumRegister, ClassicalRegister, QuantumCircuit, transpile\n",
    "from qiskit.circuit.library.standard_gates import XGate\n",
    "from qiskit_aer import AerSimulator\n",
    "\n",
    "def OR3():\n",
    "    circuit = QuantumCircuit(4, 1)\n",
    "    # Do not modify anything above this line\n",
    "    \n",
    "    # Apply OR logic using Toffoli and CNOT gates\n",
    "    circuit.ccx(0, 1, 3)  # q3 = q3 XOR (q0 AND q1)\n",
    "    circuit.cx(0, 3)      # q3 = q3 XOR q0\n",
    "    circuit.cx(1, 3)      # q3 = q3 XOR q1\n",
    "    circuit.cx(2, 3)      # q3 = q3 XOR q2\n",
    "    \n",
    "    # Do not modify anything below this line  \n",
    "    return circuit\n",
    "\n",
    "def test(input):\n",
    "    circuit = QuantumCircuit(4, 1)\n",
    "\n",
    "    # Implement the input state with X gates\n",
    "    for i in range(3):\n",
    "        if input[i] == '1':\n",
    "            circuit.x(i)\n",
    "\n",
    "    # Apply the OR3 gate you created\n",
    "    circuit.compose(OR3(), range(4), inplace=True)\n",
    "\n",
    "    circuit.measure(3, 0)\n",
    "\n",
    "    # Run the circuit on a simulator\n",
    "    simulator = AerSimulator()\n",
    "    compiled_circuit = transpile(circuit, simulator)\n",
    "    job = simulator.run(compiled_circuit, shots=100)\n",
    "    result = job.result()\n",
    "    counts = result.get_counts(circuit)\n",
    "    \n",
    "    return counts\n",
    "\n",
    "# Test cases\n",
    "print(test('000'))  # Should return {'0': 100}\n",
    "print(test('001'))  # Should return {'1': 100}\n",
    "print(test('010'))  # Should return {'1': 100}\n",
    "print(test('011'))  # Should return {'1': 100}\n",
    "print(test('100'))  # Should return {'1': 100}\n",
    "print(test('101'))  # Should return {'1': 100}\n",
    "print(test('110'))  # Should return {'1': 100}\n",
    "print(test('111'))  # Should return {'1': 100}\n"
   ]
  }
 ],
 "metadata": {
  "kernelspec": {
   "display_name": "QQcode",
   "language": "python",
   "name": "python3"
  },
  "language_info": {
   "codemirror_mode": {
    "name": "ipython",
    "version": 3
   },
   "file_extension": ".py",
   "mimetype": "text/x-python",
   "name": "python",
   "nbconvert_exporter": "python",
   "pygments_lexer": "ipython3",
   "version": "3.12.4"
  }
 },
 "nbformat": 4,
 "nbformat_minor": 2
}
